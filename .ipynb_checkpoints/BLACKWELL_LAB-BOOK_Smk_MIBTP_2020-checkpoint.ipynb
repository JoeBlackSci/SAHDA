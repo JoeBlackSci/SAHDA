{
 "cells": [
  {
   "cell_type": "markdown",
   "id": "wound-india",
   "metadata": {},
   "source": [
    "Mycogenomics Genome Assembly and Query Workflow Lab Book\n",
    "========================================================\n",
    "\n",
    "> **Author:** Joseph Blackwell   \n",
    "> **Year:** 2020  \n",
    "> **Overview:** Lab notebook detailing the development of the mycogenomic genome assembly and query workflow."
   ]
  },
  {
   "cell_type": "markdown",
   "id": "conscious-improvement",
   "metadata": {},
   "source": [
    "## 21-01-2020\n",
    "\n",
    "- Downloaded paired fastq file for testing.\n",
    "- Worked out a system to automatically import the contents of a directory foulder.\n",
    "    - Use regular expression or wildcard search to generate a list of wildcard keys for expansion or file renaming.\n",
    "    - Alternative: Include a conditional statement in the rule imput that seporates the file based on name format.\n",
    "        - Could potentially also include a what quality score system is used.\n",
    "    - Alternative: Set wildcards to be naming convention agnostic\n",
    "    - Bad alternative: Rename files to same naming convention"
   ]
  },
  {
   "cell_type": "code",
   "execution_count": 4,
   "id": "honey-communication",
   "metadata": {},
   "outputs": [
    {
     "name": "stdout",
     "output_type": "stream",
     "text": [
      "RESOURCES: ['SRR957824_500K_R1.fastq', 'SRR957824_500K_R2.fastq', '.gitignore', 'adapters.fasta']\n",
      "FIELDS: ['SRR957824', '500K', 'R1.fastq', 'SRR957824', '500K', 'R2.fastq', '.gitignore', 'adapters.fasta']\n"
     ]
    }
   ],
   "source": [
    "from os import listdir\n",
    "\n",
    "RESOURCES = listdir(\"../snake_test/resources/\")\n",
    "\n",
    "print(\"RESOURCES:\", RESOURCES)\n",
    "\n",
    "FIELDS = \"_\".join(RESOURCES).split('_')\n",
    "\n",
    "print(\"FIELDS:\", FIELDS)"
   ]
  },
  {
   "cell_type": "markdown",
   "id": "external-anthropology",
   "metadata": {},
   "source": []
  }
 ],
 "metadata": {
  "kernelspec": {
   "display_name": "Python 3",
   "language": "python",
   "name": "python3"
  },
  "language_info": {
   "codemirror_mode": {
    "name": "ipython",
    "version": 3
   },
   "file_extension": ".py",
   "mimetype": "text/x-python",
   "name": "python",
   "nbconvert_exporter": "python",
   "pygments_lexer": "ipython3",
   "version": "3.8.5"
  },
  "toc-autonumbering": false,
  "toc-showcode": false,
  "toc-showmarkdowntxt": true
 },
 "nbformat": 4,
 "nbformat_minor": 5
}
