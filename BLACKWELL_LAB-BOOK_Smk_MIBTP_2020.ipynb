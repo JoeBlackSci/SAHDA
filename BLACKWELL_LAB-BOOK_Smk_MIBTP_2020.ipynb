{
 "cells": [
  {
   "cell_type": "markdown",
   "id": "soviet-couple",
   "metadata": {},
   "source": [
    "Mycogenomics Genome Assembly and Query Workflow Lab Book\n",
    "========================================================\n",
    "> **Author:** Joseph Blackwell   \n",
    "> **Year:** 2020  \n",
    "> **Overview:** Lab notebook detailing the development of the mycogenomic genome assembly and query workflow."
   ]
  },
  {
   "cell_type": "markdown",
   "id": "cheap-killing",
   "metadata": {},
   "source": [
    "## Resources\n",
    "### Tutorials\n",
    "[Hadrien Gourle](https://www.hadriengourle.com/tutorials/)  \n",
    "[Data Carpentry](https://datacarpentry.org/lessons/#genomics-workshop)\n",
    "\n",
    "### Documentation\n",
    "[![Snakemake](https://img.shields.io/badge/snakemake-≥5.6.0-brightgreen.svg?style=flat)](https://snakemake.readthedocs.io)  \n",
    "[![Conda](https://img.shields.io/badge/conda-4.9.2-brightgreen.svg?style=flat)](https://docs.conda.io/en/latest/)\n"
   ]
  },
  {
   "cell_type": "markdown",
   "id": "overall-score",
   "metadata": {},
   "source": [
    "## 20-01-2020\n",
    "\n",
    "- found paied end fastq files to practice on while megan uploads the data for this project.\n",
    "> source: https://www.hadriengourle.com/tutorials/qc/  \n",
    "> **Looks like a good place to go for tutorials in the future**\n",
    "- setup the workflow and initalised the github: https://github.com/JoeBlackSci/genome_assembly_mp1"
   ]
  },
  {
   "cell_type": "markdown",
   "id": "angry-arabic",
   "metadata": {},
   "source": [
    "## 21-01-2020\n",
    "\n",
    "- Downloaded paired fastq file for testing.\n",
    "- Worked out a system to automatically import the contents of a directory foulder.\n",
    "    - Use regular expression or wildcard search to generate a list of wildcard keys for expansion or file renaming.\n",
    "    - Alternative: have a script that generates the config file.\n",
    "    - Alternative: Include a conditional statement in the rule imput that seporates the file based on name format.\n",
    "        - Could potentially also include a what quality score system is used.\n",
    "    - Alternative: Set wildcards to be naming convention agnostic.\n",
    "        - If possible.\n",
    "    - Bad alternative: Rename files to same naming convention."
   ]
  },
  {
   "cell_type": "code",
   "execution_count": 4,
   "id": "jewish-cricket",
   "metadata": {},
   "outputs": [
    {
     "name": "stdout",
     "output_type": "stream",
     "text": [
      "RESOURCES: ['SRR957824_500K_R1.fastq', 'SRR957824_500K_R2.fastq', '.gitignore', 'adapters.fasta']\n",
      "FIELDS: ['SRR957824', '500K', 'R1.fastq', 'SRR957824', '500K', 'R2.fastq', '.gitignore', 'adapters.fasta']\n"
     ]
    }
   ],
   "source": [
    "from os import listdir\n",
    "\n",
    "RESOURCES = listdir(\"../snake_test/resources/\")\n",
    "\n",
    "print(\"RESOURCES:\", RESOURCES)\n",
    "\n",
    "FIELDS = \"_\".join(RESOURCES).split('_')\n",
    "\n",
    "print(\"FIELDS:\", FIELDS)"
   ]
  },
  {
   "cell_type": "markdown",
   "id": "compact-working",
   "metadata": {},
   "source": [
    "# \n",
    "- Managed to get the first step working for a specific instance.\n",
    "    - Used the trimmomatic `-baseout` flag to generate output files.\n",
    "        - This could complicate inputs\n",
    "- Would like to convert files to a unified naming scheme for ease of identification. \n",
    "    - Don't touch the raw data!\n",
    "    - Better to do this during a transformation step or on a dedicated renaming step?\n",
    "    - python / bash (snakemake step / seporate script / snakemake initalization)\n",
    "- described the conda/mamba/snakemake enviroment that is required for correct snakemake installation for the workflow."
   ]
  },
  {
   "cell_type": "markdown",
   "id": "rubber-financing",
   "metadata": {},
   "source": [
    "## 22-01-2020\n"
   ]
  }
 ],
 "metadata": {
  "kernelspec": {
   "display_name": "Python 3",
   "language": "python",
   "name": "python3"
  },
  "language_info": {
   "codemirror_mode": {
    "name": "ipython",
    "version": 3
   },
   "file_extension": ".py",
   "mimetype": "text/x-python",
   "name": "python",
   "nbconvert_exporter": "python",
   "pygments_lexer": "ipython3",
   "version": "3.8.5"
  },
  "toc-autonumbering": false,
  "toc-showcode": false,
  "toc-showmarkdowntxt": true
 },
 "nbformat": 4,
 "nbformat_minor": 5
}
